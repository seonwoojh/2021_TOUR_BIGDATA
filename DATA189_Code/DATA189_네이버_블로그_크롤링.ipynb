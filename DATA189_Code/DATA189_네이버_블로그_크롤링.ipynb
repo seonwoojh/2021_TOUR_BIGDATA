{
  "nbformat": 4,
  "nbformat_minor": 0,
  "metadata": {
    "colab": {
      "name": "DATA139_네이버 블로그 크롤링_코드.ipynb",
      "provenance": [],
      "collapsed_sections": []
    },
    "kernelspec": {
      "name": "python3",
      "display_name": "Python 3"
    },
    "language_info": {
      "name": "python"
    }
  },
  "cells": [
    {
      "cell_type": "code",
      "metadata": {
        "id": "LFM1ZUh-8BlH"
      },
      "source": [
        "import requests\n",
        "import openpyxl\n",
        "\n",
        "client_id = ''\n",
        "client_secret = ''\n",
        "\n",
        "start = 1\n",
        "num = 0\n",
        "\n",
        "excel_file = openpyxl.Workbook()\n",
        "excel_sheet = excel_file.active\n",
        "excel_sheet.append(['date', 'text'])\n",
        "query = input('검색할 단어를 입력하세요 : ')\n",
        "for index in range(10):\n",
        "  start_num = start + (index * 100)\n",
        "  naver_open_api = 'https://openapi.naver.com/v1/search/blog?query=' + query + '&display=100&start=' + str(start_num)\n",
        "  header_params = {'X-Naver-Client-Id':client_id, 'X-Naver-Client-Secret':client_secret}\n",
        "  \n",
        "  res = requests.get(naver_open_api, headers=header_params)\n",
        "\n",
        "  if res.status_code == 200:\n",
        "    data = res.json()\n",
        "    for item in data['items']:\n",
        "      num += 1\n",
        "      excel_sheet.append([item['postdate'], item['description']])\n",
        "  else:\n",
        "    print(\"Error : \", res.status_code)\n",
        "\n",
        "excel_file.save('naver_{}_검색결과.xlsx'.format(query))\n",
        "excel_file.close()"
      ],
      "execution_count": null,
      "outputs": []
    }
  ]
}