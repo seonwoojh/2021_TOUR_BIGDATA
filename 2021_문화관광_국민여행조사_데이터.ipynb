{
  "nbformat": 4,
  "nbformat_minor": 0,
  "metadata": {
    "colab": {
      "name": "2021 문화관광 국민여행조사 데이터.ipynb",
      "provenance": []
    },
    "kernelspec": {
      "name": "python3",
      "display_name": "Python 3"
    },
    "language_info": {
      "name": "python"
    }
  },
  "cells": [
    {
      "cell_type": "code",
      "metadata": {
        "id": "j9KJhWPF3mKu"
      },
      "source": [
        "import pandas as pd\n",
        "import numpy as np\n",
        "import matplotlib.pyplot as plt\n",
        "import seaborn as sns\n",
        "import warnings\n",
        "warnings.filterwarnings('ignore')\n",
        "sns.set_style('whitegrid')\n",
        "\n",
        "from sklearn.model_selection import train_test_split\n",
        "from sklearn.cluster import KMeans\n",
        "from sklearn.decomposition import PCA"
      ],
      "execution_count": 1,
      "outputs": []
    },
    {
      "cell_type": "code",
      "metadata": {
        "id": "a1Empi7NEQjl",
        "colab": {
          "base_uri": "https://localhost:8080/"
        },
        "outputId": "a52d8b5a-9ab7-4736-ddc3-cb66683c05e7"
      },
      "source": [
        "from google.colab import drive\n",
        "drive.mount('/content/drive')"
      ],
      "execution_count": 2,
      "outputs": [
        {
          "output_type": "stream",
          "text": [
            "Drive already mounted at /content/drive; to attempt to forcibly remount, call drive.mount(\"/content/drive\", force_remount=True).\n"
          ],
          "name": "stdout"
        }
      ]
    },
    {
      "cell_type": "code",
      "metadata": {
        "id": "ndzTjjDwEWSW",
        "colab": {
          "base_uri": "https://localhost:8080/",
          "height": 252
        },
        "outputId": "78f54b58-a98a-469f-b02d-f7f23236447b"
      },
      "source": [
        "# 그래프 한글폰트 사용설정 in Colab\n",
        "\n",
        "import matplotlib as mpl\n",
        "import matplotlib.pyplot as plt\n",
        "import matplotlib.font_manager as fm\n",
        "\n",
        "%config InlineBackend.figure_format = 'retina'\n",
        "!apt -qq -y install fonts-nanum\n",
        "\n",
        "fontpath = '/content/drive/My Drive/파이썬/NanumGothic.ttf'\n",
        "font = fm.FontProperties(fname=fontpath, size=9)\n",
        "plt.rc('font', family='NanumBarunGothic') \n",
        "mpl.font_manager._rebuild()\n",
        "\n",
        "## Test\n",
        "plt.figure(figsize=(3,3))\n",
        "plt.text(0.5, 0.5, '한글 폰트 테스트 성공!!!', size=15)\n",
        "plt.show()"
      ],
      "execution_count": 3,
      "outputs": [
        {
          "output_type": "stream",
          "text": [
            "fonts-nanum is already the newest version (20170925-1).\n",
            "0 upgraded, 0 newly installed, 0 to remove and 39 not upgraded.\n"
          ],
          "name": "stdout"
        },
        {
          "output_type": "display_data",
          "data": {
            "image/png": "[encoded data removed]",
            "text/plain": [
              "<Figure size 216x216 with 1 Axes>"
            ]
          },
          "metadata": {
            "tags": [],
            "image/png": {
              "width": 270,
              "height": 199
            },
            "needs_background": "light"
          }
        }
      ]
    },
    {
      "cell_type": "code",
      "metadata": {
        "id": "ScqXmBvBFOrc"
      },
      "source": [
        "tour = pd.read_csv('/content/drive/MyDrive/2021 문화관광/DataSet/tour.csv')"
      ],
      "execution_count": 137,
      "outputs": []
    },
    {
      "cell_type": "code",
      "metadata": {
        "colab": {
          "base_uri": "https://localhost:8080/"
        },
        "id": "Q33g4g1mGk0f",
        "outputId": "2a46e7ea-216c-4ad7-d62e-6ad38c207339"
      },
      "source": [
        "tour.columns"
      ],
      "execution_count": 138,
      "outputs": [
        {
          "output_type": "execute_result",
          "data": {
            "text/plain": [
              "Index(['Unnamed: 0', 'A5_1', 'A5_2', 'A5_3', 'A5_4', 'A5_5', 'A5_6', 'A5_7',\n",
              "       'A5_8', 'A5_9', 'A5_10', 'A5_11', 'A5_12', 'A5_13', 'A5_14', 'A5_15',\n",
              "       'A5_16', 'A5_17', 'A5_18', 'A5_19', 'A5_20', 'A5_21', 'sum'],\n",
              "      dtype='object')"
            ]
          },
          "metadata": {
            "tags": []
          },
          "execution_count": 138
        }
      ]
    },
    {
      "cell_type": "code",
      "metadata": {
        "colab": {
          "base_uri": "https://localhost:8080/"
        },
        "id": "VREhDoA3qu-z",
        "outputId": "85c61e99-ccb6-4776-fe22-70c7ca5342c5"
      },
      "source": [
        "tour.rename(columns = {'Unnamed: 0':'지역'}, inplace=True)\n",
        "print(tour.columns)"
      ],
      "execution_count": 139,
      "outputs": [
        {
          "output_type": "stream",
          "text": [
            "Index(['지역', 'A5_1', 'A5_2', 'A5_3', 'A5_4', 'A5_5', 'A5_6', 'A5_7', 'A5_8',\n",
            "       'A5_9', 'A5_10', 'A5_11', 'A5_12', 'A5_13', 'A5_14', 'A5_15', 'A5_16',\n",
            "       'A5_17', 'A5_18', 'A5_19', 'A5_20', 'A5_21', 'sum'],\n",
            "      dtype='object')\n"
          ],
          "name": "stdout"
        }
      ]
    },
    {
      "cell_type": "code",
      "metadata": {
        "id": "eId4PFVOqeRb"
      },
      "source": [
        "tour.set_index('지역', inplace=True)"
      ],
      "execution_count": 140,
      "outputs": []
    },
    {
      "cell_type": "code",
      "metadata": {
        "colab": {
          "base_uri": "https://localhost:8080/",
          "height": 656
        },
        "id": "-fQFDv1kaUoZ",
        "outputId": "b86e3368-c789-4ee9-95ba-8aa8cfabfcb1"
      },
      "source": [
        "import missingno\n",
        "missingno.matrix(tour)"
      ],
      "execution_count": 134,
      "outputs": [
        {
          "output_type": "execute_result",
          "data": {
            "text/plain": [
              "<matplotlib.axes._subplots.AxesSubplot at 0x7f5b220d64d0>"
            ]
          },
          "metadata": {
            "tags": []
          },
          "execution_count": 134
        },
        {
          "output_type": "display_data",
          "data": {
            "image/png": "[encoded data removed]",
            "text/plain": [
              "<Figure size 1800x720 with 2 Axes>"
            ]
          },
          "metadata": {
            "tags": [],
            "image/png": {
              "width": 1467,
              "height": 621
            },
            "needs_background": "light"
          }
        }
      ]
    },
    {
      "cell_type": "code",
      "metadata": {
        "colab": {
          "base_uri": "https://localhost:8080/",
          "height": 450
        },
        "id": "tKkpoquNLC0t",
        "outputId": "1a5b4348-4738-4db7-c0ed-760f080116f4"
      },
      "source": [
        "tour"
      ],
      "execution_count": 141,
      "outputs": [
        {
          "output_type": "execute_result",
          "data": {
            "text/html": [
              "<div>\n",
              "<style scoped>\n",
              "    .dataframe tbody tr th:only-of-type {\n",
              "        vertical-align: middle;\n",
              "    }\n",
              "\n",
              "    .dataframe tbody tr th {\n",
              "        vertical-align: top;\n",
              "    }\n",
              "\n",
              "    .dataframe thead th {\n",
              "        text-align: right;\n",
              "    }\n",
              "</style>\n",
              "<table border=\"1\" class=\"dataframe\">\n",
              "  <thead>\n",
              "    <tr style=\"text-align: right;\">\n",
              "      <th></th>\n",
              "      <th>A5_1</th>\n",
              "      <th>A5_2</th>\n",
              "      <th>A5_3</th>\n",
              "      <th>A5_4</th>\n",
              "      <th>A5_5</th>\n",
              "      <th>A5_6</th>\n",
              "      <th>A5_7</th>\n",
              "      <th>A5_8</th>\n",
              "      <th>A5_9</th>\n",
              "      <th>A5_10</th>\n",
              "      <th>A5_11</th>\n",
              "      <th>A5_12</th>\n",
              "      <th>A5_13</th>\n",
              "      <th>A5_14</th>\n",
              "      <th>A5_15</th>\n",
              "      <th>A5_16</th>\n",
              "      <th>A5_17</th>\n",
              "      <th>A5_18</th>\n",
              "      <th>A5_19</th>\n",
              "      <th>A5_20</th>\n",
              "      <th>A5_21</th>\n",
              "      <th>sum</th>\n",
              "    </tr>\n",
              "    <tr>\n",
              "      <th>지역</th>\n",
              "      <th></th>\n",
              "      <th></th>\n",
              "      <th></th>\n",
              "      <th></th>\n",
              "      <th></th>\n",
              "      <th></th>\n",
              "      <th></th>\n",
              "      <th></th>\n",
              "      <th></th>\n",
              "      <th></th>\n",
              "      <th></th>\n",
              "      <th></th>\n",
              "      <th></th>\n",
              "      <th></th>\n",
              "      <th></th>\n",
              "      <th></th>\n",
              "      <th></th>\n",
              "      <th></th>\n",
              "      <th></th>\n",
              "      <th></th>\n",
              "      <th></th>\n",
              "      <th></th>\n",
              "    </tr>\n",
              "  </thead>\n",
              "  <tbody>\n",
              "    <tr>\n",
              "      <th>11010</th>\n",
              "      <td>0.063492</td>\n",
              "      <td>0.119048</td>\n",
              "      <td>0.005952</td>\n",
              "      <td>0.043651</td>\n",
              "      <td>0.007937</td>\n",
              "      <td>0.063492</td>\n",
              "      <td>0.000000</td>\n",
              "      <td>0.071429</td>\n",
              "      <td>0.015873</td>\n",
              "      <td>0.000000</td>\n",
              "      <td>0.003968</td>\n",
              "      <td>0.001984</td>\n",
              "      <td>0.000000</td>\n",
              "      <td>0.000000</td>\n",
              "      <td>0.039683</td>\n",
              "      <td>0.003968</td>\n",
              "      <td>0.005952</td>\n",
              "      <td>0.041667</td>\n",
              "      <td>0.005952</td>\n",
              "      <td>0.001984</td>\n",
              "      <td>0.003968</td>\n",
              "      <td>0.5</td>\n",
              "    </tr>\n",
              "    <tr>\n",
              "      <th>11020</th>\n",
              "      <td>0.066298</td>\n",
              "      <td>0.118785</td>\n",
              "      <td>0.002762</td>\n",
              "      <td>0.030387</td>\n",
              "      <td>0.016575</td>\n",
              "      <td>0.069061</td>\n",
              "      <td>0.002762</td>\n",
              "      <td>0.069061</td>\n",
              "      <td>0.016575</td>\n",
              "      <td>0.000000</td>\n",
              "      <td>0.002762</td>\n",
              "      <td>0.008287</td>\n",
              "      <td>0.002762</td>\n",
              "      <td>0.000000</td>\n",
              "      <td>0.046961</td>\n",
              "      <td>0.002762</td>\n",
              "      <td>0.000000</td>\n",
              "      <td>0.030387</td>\n",
              "      <td>0.005525</td>\n",
              "      <td>0.008287</td>\n",
              "      <td>0.000000</td>\n",
              "      <td>0.5</td>\n",
              "    </tr>\n",
              "    <tr>\n",
              "      <th>11030</th>\n",
              "      <td>0.090909</td>\n",
              "      <td>0.103306</td>\n",
              "      <td>0.000000</td>\n",
              "      <td>0.012397</td>\n",
              "      <td>0.008264</td>\n",
              "      <td>0.061983</td>\n",
              "      <td>0.000000</td>\n",
              "      <td>0.041322</td>\n",
              "      <td>0.012397</td>\n",
              "      <td>0.000000</td>\n",
              "      <td>0.004132</td>\n",
              "      <td>0.008264</td>\n",
              "      <td>0.000000</td>\n",
              "      <td>0.000000</td>\n",
              "      <td>0.037190</td>\n",
              "      <td>0.012397</td>\n",
              "      <td>0.020661</td>\n",
              "      <td>0.053719</td>\n",
              "      <td>0.012397</td>\n",
              "      <td>0.020661</td>\n",
              "      <td>0.000000</td>\n",
              "      <td>0.5</td>\n",
              "    </tr>\n",
              "    <tr>\n",
              "      <th>11040</th>\n",
              "      <td>0.147059</td>\n",
              "      <td>0.088235</td>\n",
              "      <td>0.000000</td>\n",
              "      <td>0.029412</td>\n",
              "      <td>0.029412</td>\n",
              "      <td>0.058824</td>\n",
              "      <td>0.000000</td>\n",
              "      <td>0.058824</td>\n",
              "      <td>0.000000</td>\n",
              "      <td>0.000000</td>\n",
              "      <td>0.000000</td>\n",
              "      <td>0.029412</td>\n",
              "      <td>0.000000</td>\n",
              "      <td>0.000000</td>\n",
              "      <td>0.000000</td>\n",
              "      <td>0.000000</td>\n",
              "      <td>0.000000</td>\n",
              "      <td>0.058824</td>\n",
              "      <td>0.000000</td>\n",
              "      <td>0.000000</td>\n",
              "      <td>0.000000</td>\n",
              "      <td>0.5</td>\n",
              "    </tr>\n",
              "    <tr>\n",
              "      <th>11050</th>\n",
              "      <td>0.098214</td>\n",
              "      <td>0.098214</td>\n",
              "      <td>0.017857</td>\n",
              "      <td>0.000000</td>\n",
              "      <td>0.017857</td>\n",
              "      <td>0.089286</td>\n",
              "      <td>0.000000</td>\n",
              "      <td>0.017857</td>\n",
              "      <td>0.017857</td>\n",
              "      <td>0.000000</td>\n",
              "      <td>0.000000</td>\n",
              "      <td>0.008929</td>\n",
              "      <td>0.008929</td>\n",
              "      <td>0.000000</td>\n",
              "      <td>0.026786</td>\n",
              "      <td>0.000000</td>\n",
              "      <td>0.008929</td>\n",
              "      <td>0.089286</td>\n",
              "      <td>0.000000</td>\n",
              "      <td>0.000000</td>\n",
              "      <td>0.000000</td>\n",
              "      <td>0.5</td>\n",
              "    </tr>\n",
              "    <tr>\n",
              "      <th>...</th>\n",
              "      <td>...</td>\n",
              "      <td>...</td>\n",
              "      <td>...</td>\n",
              "      <td>...</td>\n",
              "      <td>...</td>\n",
              "      <td>...</td>\n",
              "      <td>...</td>\n",
              "      <td>...</td>\n",
              "      <td>...</td>\n",
              "      <td>...</td>\n",
              "      <td>...</td>\n",
              "      <td>...</td>\n",
              "      <td>...</td>\n",
              "      <td>...</td>\n",
              "      <td>...</td>\n",
              "      <td>...</td>\n",
              "      <td>...</td>\n",
              "      <td>...</td>\n",
              "      <td>...</td>\n",
              "      <td>...</td>\n",
              "      <td>...</td>\n",
              "      <td>...</td>\n",
              "    </tr>\n",
              "    <tr>\n",
              "      <th>38380</th>\n",
              "      <td>0.166667</td>\n",
              "      <td>0.086207</td>\n",
              "      <td>0.000000</td>\n",
              "      <td>0.022989</td>\n",
              "      <td>0.000000</td>\n",
              "      <td>0.155172</td>\n",
              "      <td>0.000000</td>\n",
              "      <td>0.000000</td>\n",
              "      <td>0.005747</td>\n",
              "      <td>0.000000</td>\n",
              "      <td>0.000000</td>\n",
              "      <td>0.000000</td>\n",
              "      <td>0.000000</td>\n",
              "      <td>0.000000</td>\n",
              "      <td>0.005747</td>\n",
              "      <td>0.000000</td>\n",
              "      <td>0.005747</td>\n",
              "      <td>0.045977</td>\n",
              "      <td>0.005747</td>\n",
              "      <td>0.000000</td>\n",
              "      <td>0.000000</td>\n",
              "      <td>0.5</td>\n",
              "    </tr>\n",
              "    <tr>\n",
              "      <th>38390</th>\n",
              "      <td>0.184524</td>\n",
              "      <td>0.071429</td>\n",
              "      <td>0.000000</td>\n",
              "      <td>0.000000</td>\n",
              "      <td>0.000000</td>\n",
              "      <td>0.148810</td>\n",
              "      <td>0.011905</td>\n",
              "      <td>0.011905</td>\n",
              "      <td>0.000000</td>\n",
              "      <td>0.000000</td>\n",
              "      <td>0.000000</td>\n",
              "      <td>0.000000</td>\n",
              "      <td>0.011905</td>\n",
              "      <td>0.000000</td>\n",
              "      <td>0.000000</td>\n",
              "      <td>0.005952</td>\n",
              "      <td>0.000000</td>\n",
              "      <td>0.047619</td>\n",
              "      <td>0.000000</td>\n",
              "      <td>0.000000</td>\n",
              "      <td>0.005952</td>\n",
              "      <td>0.5</td>\n",
              "    </tr>\n",
              "    <tr>\n",
              "      <th>38400</th>\n",
              "      <td>0.156028</td>\n",
              "      <td>0.063830</td>\n",
              "      <td>0.007092</td>\n",
              "      <td>0.017730</td>\n",
              "      <td>0.003546</td>\n",
              "      <td>0.134752</td>\n",
              "      <td>0.003546</td>\n",
              "      <td>0.000000</td>\n",
              "      <td>0.003546</td>\n",
              "      <td>0.000000</td>\n",
              "      <td>0.000000</td>\n",
              "      <td>0.000000</td>\n",
              "      <td>0.042553</td>\n",
              "      <td>0.000000</td>\n",
              "      <td>0.000000</td>\n",
              "      <td>0.003546</td>\n",
              "      <td>0.000000</td>\n",
              "      <td>0.049645</td>\n",
              "      <td>0.014184</td>\n",
              "      <td>0.000000</td>\n",
              "      <td>0.000000</td>\n",
              "      <td>0.5</td>\n",
              "    </tr>\n",
              "    <tr>\n",
              "      <th>39010</th>\n",
              "      <td>0.118478</td>\n",
              "      <td>0.094565</td>\n",
              "      <td>0.013043</td>\n",
              "      <td>0.019565</td>\n",
              "      <td>0.036141</td>\n",
              "      <td>0.101359</td>\n",
              "      <td>0.004891</td>\n",
              "      <td>0.024728</td>\n",
              "      <td>0.014946</td>\n",
              "      <td>0.000000</td>\n",
              "      <td>0.003804</td>\n",
              "      <td>0.002717</td>\n",
              "      <td>0.000815</td>\n",
              "      <td>0.000272</td>\n",
              "      <td>0.029348</td>\n",
              "      <td>0.016848</td>\n",
              "      <td>0.007065</td>\n",
              "      <td>0.009239</td>\n",
              "      <td>0.000272</td>\n",
              "      <td>0.001902</td>\n",
              "      <td>0.000000</td>\n",
              "      <td>0.5</td>\n",
              "    </tr>\n",
              "    <tr>\n",
              "      <th>39020</th>\n",
              "      <td>0.121556</td>\n",
              "      <td>0.097873</td>\n",
              "      <td>0.012083</td>\n",
              "      <td>0.016433</td>\n",
              "      <td>0.035524</td>\n",
              "      <td>0.101257</td>\n",
              "      <td>0.004833</td>\n",
              "      <td>0.026583</td>\n",
              "      <td>0.013291</td>\n",
              "      <td>0.000242</td>\n",
              "      <td>0.003142</td>\n",
              "      <td>0.003142</td>\n",
              "      <td>0.000725</td>\n",
              "      <td>0.000000</td>\n",
              "      <td>0.028033</td>\n",
              "      <td>0.017400</td>\n",
              "      <td>0.006042</td>\n",
              "      <td>0.008942</td>\n",
              "      <td>0.000967</td>\n",
              "      <td>0.001450</td>\n",
              "      <td>0.000483</td>\n",
              "      <td>0.5</td>\n",
              "    </tr>\n",
              "  </tbody>\n",
              "</table>\n",
              "<p>229 rows × 22 columns</p>\n",
              "</div>"
            ],
            "text/plain": [
              "           A5_1      A5_2      A5_3  ...     A5_20     A5_21  sum\n",
              "지역                                   ...                         \n",
              "11010  0.063492  0.119048  0.005952  ...  0.001984  0.003968  0.5\n",
              "11020  0.066298  0.118785  0.002762  ...  0.008287  0.000000  0.5\n",
              "11030  0.090909  0.103306  0.000000  ...  0.020661  0.000000  0.5\n",
              "11040  0.147059  0.088235  0.000000  ...  0.000000  0.000000  0.5\n",
              "11050  0.098214  0.098214  0.017857  ...  0.000000  0.000000  0.5\n",
              "...         ...       ...       ...  ...       ...       ...  ...\n",
              "38380  0.166667  0.086207  0.000000  ...  0.000000  0.000000  0.5\n",
              "38390  0.184524  0.071429  0.000000  ...  0.000000  0.005952  0.5\n",
              "38400  0.156028  0.063830  0.007092  ...  0.000000  0.000000  0.5\n",
              "39010  0.118478  0.094565  0.013043  ...  0.001902  0.000000  0.5\n",
              "39020  0.121556  0.097873  0.012083  ...  0.001450  0.000483  0.5\n",
              "\n",
              "[229 rows x 22 columns]"
            ]
          },
          "metadata": {
            "tags": []
          },
          "execution_count": 141
        }
      ]
    },
    {
      "cell_type": "code",
      "metadata": {
        "id": "QowH9PO0uP-6"
      },
      "source": [
        "tour.drop('sum', axis=1, inplace=True)"
      ],
      "execution_count": 122,
      "outputs": []
    },
    {
      "cell_type": "code",
      "metadata": {
        "colab": {
          "base_uri": "https://localhost:8080/",
          "height": 461
        },
        "id": "LPU-8-FWzot0",
        "outputId": "c833a6a0-29bd-42e5-8b9e-aee764cd39df"
      },
      "source": [
        "# 엘보우기법\n",
        "\n",
        "def elbow(df):\n",
        "  sse = []\n",
        "  for i in range(1, 11):\n",
        "    kmeans = KMeans(n_clusters=i, init='k-means++', random_state=0)\n",
        "    kmeans.fit(df)\n",
        "    sse.append(kmeans.inertia_)\n",
        "    print(sse)\n",
        "\n",
        "  plt.plot(range(1,11), sse, marker='o')\n",
        "  plt.xlabel('클러스터개수')\n",
        "  plt.ylabel('SSE')\n",
        "  plt.show()\n",
        "\n",
        "elbow(tour)"
      ],
      "execution_count": 123,
      "outputs": [
        {
          "output_type": "stream",
          "text": [
            "[1.4955558440995846]\n",
            "[1.4955558440995846, 1.143438628883561]\n",
            "[1.4955558440995846, 1.143438628883561, 0.9431839696643913]\n",
            "[1.4955558440995846, 1.143438628883561, 0.9431839696643913, 0.8294460602688892]\n",
            "[1.4955558440995846, 1.143438628883561, 0.9431839696643913, 0.8294460602688892, 0.7556262541770729]\n",
            "[1.4955558440995846, 1.143438628883561, 0.9431839696643913, 0.8294460602688892, 0.7556262541770729, 0.7153916324690375]\n",
            "[1.4955558440995846, 1.143438628883561, 0.9431839696643913, 0.8294460602688892, 0.7556262541770729, 0.7153916324690375, 0.6719247111710388]\n",
            "[1.4955558440995846, 1.143438628883561, 0.9431839696643913, 0.8294460602688892, 0.7556262541770729, 0.7153916324690375, 0.6719247111710388, 0.6481529942480195]\n",
            "[1.4955558440995846, 1.143438628883561, 0.9431839696643913, 0.8294460602688892, 0.7556262541770729, 0.7153916324690375, 0.6719247111710388, 0.6481529942480195, 0.6146031950177426]\n",
            "[1.4955558440995846, 1.143438628883561, 0.9431839696643913, 0.8294460602688892, 0.7556262541770729, 0.7153916324690375, 0.6719247111710388, 0.6481529942480195, 0.6146031950177426, 0.5755602043597877]\n"
          ],
          "name": "stdout"
        },
        {
          "output_type": "display_data",
          "data": {
            "image/png": "[encoded data removed]",
            "text/plain": [
              "<Figure size 432x288 with 1 Axes>"
            ]
          },
          "metadata": {
            "tags": [],
            "image/png": {
              "width": 385,
              "height": 264
            },
            "needs_background": "light"
          }
        }
      ]
    },
    {
      "cell_type": "code",
      "metadata": {
        "colab": {
          "base_uri": "https://localhost:8080/"
        },
        "id": "9V3H1ZAJ11PD",
        "outputId": "4f953985-857a-4ef3-a815-44979b6e3f8c"
      },
      "source": [
        "kmeans = KMeans(n_clusters= 7, init='k-means++', max_iter=300, random_state=0)\n",
        "kmeans.fit(tour)"
      ],
      "execution_count": 114,
      "outputs": [
        {
          "output_type": "execute_result",
          "data": {
            "text/plain": [
              "KMeans(algorithm='auto', copy_x=True, init='k-means++', max_iter=300,\n",
              "       n_clusters=7, n_init=10, n_jobs=None, precompute_distances='auto',\n",
              "       random_state=0, tol=0.0001, verbose=0)"
            ]
          },
          "metadata": {
            "tags": []
          },
          "execution_count": 114
        }
      ]
    },
    {
      "cell_type": "code",
      "metadata": {
        "colab": {
          "base_uri": "https://localhost:8080/"
        },
        "id": "0Wte-vAe0eXz",
        "outputId": "b80df6b3-9d38-4b66-d1fd-407af0fe7fe9"
      },
      "source": [
        "print(kmeans.labels_)\n",
        "print(kmeans.predict(tour))"
      ],
      "execution_count": 115,
      "outputs": [
        {
          "output_type": "stream",
          "text": [
            "[4 4 4 0 2 2 6 5 2 0 2 5 4 4 0 2 2 2 0 2 0 4 4 4 4 4 0 0 0 4 2 3 2 0 0 2 1\n",
            " 2 1 2 0 4 0 3 2 4 2 2 2 1 3 2 0 0 4 5 0 1 1 4 4 2 2 2 0 4 0 4 0 3 2 3 0 3\n",
            " 1 0 0 0 0 0 0 1 1 1 1 5 0 1 0 1 5 5 0 0 1 0 0 0 1 1 1 1 0 1 1 1 1 3 1 1 5\n",
            " 1 1 1 1 1 1 1 1 1 3 1 1 1 1 1 0 1 1 1 0 1 5 1 1 4 1 1 0 0 0 0 1 1 0 1 3 0\n",
            " 1 1 0 0 2 0 0 3 5 1 1 1 0 3 3 1 1 1 0 3 0 1 1 1 0 0 0 1 0 0 1 0 2 1 1 1 0\n",
            " 1 1 1 3 0 3 0 3 3 3 3 0 3 5 3 1 1 0 3 1 3 3 1 1 3 1 3 3 3 1 3 1 3 3 3 3 1\n",
            " 3 3 3 3 3 0 0]\n",
            "[4 4 4 0 2 2 6 5 2 0 2 5 4 4 0 2 2 2 0 2 0 4 4 4 4 4 0 0 0 4 2 3 2 0 0 2 1\n",
            " 2 1 2 0 4 0 3 2 4 2 2 2 1 3 2 0 0 4 5 0 1 1 4 4 2 2 2 0 4 0 4 0 3 2 3 0 3\n",
            " 1 0 0 0 0 0 0 1 1 1 1 5 0 1 0 1 5 5 0 0 1 0 0 0 1 1 1 1 0 1 1 1 1 3 1 1 5\n",
            " 1 1 1 1 1 1 1 1 1 3 1 1 1 1 1 0 1 1 1 0 1 5 1 1 4 1 1 0 0 0 0 1 1 0 1 3 0\n",
            " 1 1 0 0 2 0 0 3 5 1 1 1 0 3 3 1 1 1 0 3 0 1 1 1 0 0 0 1 0 0 1 0 2 1 1 1 0\n",
            " 1 1 1 3 0 3 0 3 3 3 3 0 3 5 3 1 1 0 3 1 3 3 1 1 3 1 3 3 3 1 3 1 3 3 3 3 1\n",
            " 3 3 3 3 3 0 0]\n"
          ],
          "name": "stdout"
        }
      ]
    },
    {
      "cell_type": "code",
      "metadata": {
        "id": "FdKXYwc1FCc6"
      },
      "source": [
        "tour['cluster'] = kmeans.labels_"
      ],
      "execution_count": 109,
      "outputs": []
    },
    {
      "cell_type": "markdown",
      "metadata": {
        "id": "5nkNGYKK7JCT"
      },
      "source": [
        "###PCA - scree plot"
      ]
    },
    {
      "cell_type": "code",
      "metadata": {
        "id": "eEZFeV423jaj"
      },
      "source": [
        "pca = PCA(n_components=len(tour.columns)-1)\n",
        "pca_fit = pca.fit(tour)"
      ],
      "execution_count": 84,
      "outputs": []
    },
    {
      "cell_type": "code",
      "metadata": {
        "colab": {
          "base_uri": "https://localhost:8080/"
        },
        "id": "ZsaQfw2M3v0r",
        "outputId": "cff00b34-11c7-4738-9100-093844785365"
      },
      "source": [
        "print('\\n------------------- PCA Result Summary ------------- \\n')\n",
        "print('Singular value : \\n', pca.singular_values_)\n",
        "print('Singular vector : \\n', pca.components_.T)\n",
        "print('\\n Explain Standard deviations : \\n', np.sqrt(pca.explained_variance_))\n",
        "print('\\n Explain Variance Ratio : \\n', pca.explained_variance_ratio_)\n",
        "print('\\n Noise Variance : \\n', pca.noise_variance_)"
      ],
      "execution_count": 92,
      "outputs": [
        {
          "output_type": "stream",
          "text": [
            "\n",
            "------------------- PCA Result Summary ------------- \n",
            "\n",
            "Singular value : \n",
            " [0.78879172 0.54923025 0.38393337 0.35384327 0.25372342 0.24246123\n",
            " 0.19895877 0.1905919  0.1366289  0.13406858 0.11274175 0.1087564\n",
            " 0.10008576 0.09516012 0.07766218 0.07387661 0.06451328 0.0594275\n",
            " 0.02001353 0.01379918]\n",
            "Singular vector : \n",
            " [[-6.16471425e-01  4.70792485e-01  4.55638419e-01  6.64029956e-02\n",
            "   2.81566734e-01  6.25018506e-03 -1.25328915e-01 -1.38029096e-01\n",
            "  -5.14734762e-02 -2.86720111e-02  1.53236818e-02 -3.48571094e-02\n",
            "  -1.17069832e-02 -9.66735586e-02 -5.79804308e-02 -2.45658980e-02\n",
            "  -2.44820720e-02 -2.50164069e-02 -5.42189839e-02 -4.54974037e-02]\n",
            " [-1.74240891e-01 -4.43938218e-01 -7.14524636e-02  8.27532429e-01\n",
            "   1.70955080e-02  1.46301165e-02 -6.95393941e-02  2.56544503e-03\n",
            "  -5.11529001e-02 -8.10683305e-02 -4.57324995e-02 -8.77862288e-02\n",
            "  -9.55022845e-03 -5.94188131e-02  8.41912098e-03  2.21738068e-02\n",
            "  -2.29122896e-02 -4.37292630e-02 -4.88223427e-02 -4.10385355e-02]\n",
            " [-4.51281519e-02  9.30950446e-03  1.81200799e-01 -4.59347610e-02\n",
            "  -1.65081669e-01  2.77193132e-01  5.24806514e-01  6.53698964e-01\n",
            "  -2.03690481e-01 -7.37268364e-02  5.50817963e-02 -1.17056044e-01\n",
            "   1.57703077e-02 -6.34802084e-02 -1.11380150e-01 -1.05410709e-01\n",
            "  -9.60104256e-02 -2.82610433e-02 -7.23857674e-02 -4.20527983e-02]\n",
            " [ 1.21638094e-03  1.15000699e-03  4.60067306e-02 -1.16057123e-01\n",
            "  -3.73241459e-01 -7.61604996e-01 -1.67380002e-01  1.00210466e-01\n",
            "  -2.08465619e-01 -9.23618573e-02 -6.88676602e-03 -3.11326015e-01\n",
            "   5.80661411e-02 -1.07203873e-01  1.80929162e-02 -7.17385303e-02\n",
            "  -4.93663375e-02 -5.04138972e-02 -5.18549264e-02 -4.91642888e-02]\n",
            " [ 1.73668540e-02 -1.04549177e-01  6.60329305e-02 -2.06475561e-01\n",
            "  -4.48010438e-01  5.53323668e-01 -5.30322258e-01 -1.32828113e-01\n",
            "  -1.53122439e-01 -1.25078337e-01 -5.99394657e-02 -1.53365643e-01\n",
            "  -3.25859853e-02 -9.93183663e-02 -4.32289671e-02  4.81250248e-02\n",
            "  -3.21875940e-02 -2.45874474e-02 -5.83639286e-02 -4.50373259e-02]\n",
            " [-2.50073567e-01  2.94312026e-01 -8.54352044e-01 -6.97694800e-02\n",
            "   1.21722355e-01  6.22203800e-02  4.66381423e-03  5.65165271e-02\n",
            "  -1.02300297e-01 -1.18720666e-01  1.38609899e-02 -8.07005189e-02\n",
            "  -1.53017914e-02 -8.64536653e-02 -2.16001984e-02  1.97096938e-02\n",
            "  -1.12682328e-02 -3.86932588e-02 -5.38835606e-02 -4.66923279e-02]\n",
            " [-5.76220578e-03  6.85007608e-05 -6.32719925e-02  1.00465586e-02\n",
            "  -7.51920705e-02  2.59432470e-02 -4.76573667e-02  3.27130642e-02\n",
            "   2.16841850e-01  9.02907299e-01  1.27323684e-01 -1.35946985e-01\n",
            "  -5.80829944e-02 -1.19217806e-01 -8.16525297e-02 -6.97737699e-02\n",
            "  -4.76170060e-02 -6.65392911e-02 -6.04859976e-02 -4.63127423e-02]\n",
            " [ 1.57494860e-01 -3.52744349e-01  4.96213293e-02 -2.71343654e-01\n",
            "   6.72262481e-01 -5.08059041e-02 -3.69968560e-01  3.32132176e-01\n",
            "  -6.25463256e-02 -3.50351689e-02  4.10258456e-03 -3.21280047e-02\n",
            "  -2.16084343e-02 -3.89048446e-02 -1.00159856e-01 -4.55656406e-02\n",
            "  -6.84242103e-04 -2.22650765e-03 -5.58283914e-02 -4.41811383e-02]\n",
            " [ 3.89959128e-02 -6.52009089e-02  1.03242101e-02 -2.94195873e-02\n",
            "  -1.25970677e-01 -1.00189402e-01  1.05468011e-02 -4.34885290e-02\n",
            "   1.57573616e-01 -1.57286129e-01  5.74983365e-01  5.62217427e-01\n",
            "  -3.98327137e-02 -3.73889058e-01 -2.08272626e-01  1.76498904e-01\n",
            "  -2.34396101e-02 -3.39654084e-02 -4.78224509e-02 -3.95758246e-02]\n",
            " [ 9.21081021e-04  2.00021837e-03 -1.47111093e-03 -3.28867568e-03\n",
            "   1.40715400e-03 -1.33316568e-03  8.50264613e-04 -4.60931053e-03\n",
            "  -8.12452432e-03  2.75694434e-03 -1.99880767e-03 -9.52904926e-03\n",
            "  -4.92260792e-03 -1.12946452e-02 -7.07234036e-03 -8.50998120e-03\n",
            "  -2.15443453e-03  3.01648214e-05  1.18444148e-01  9.68432286e-01]\n",
            " [-2.30947391e-03 -1.23206397e-02 -9.91384149e-03 -1.23658077e-02\n",
            "  -1.02107523e-02 -1.39716319e-02  1.40307750e-02 -4.51908275e-02\n",
            "   1.72481692e-02  1.46188488e-02  1.01166796e-01  3.50542564e-02\n",
            "  -4.69652284e-02  2.06151190e-01  2.11857874e-01  1.39943040e-02\n",
            "  -3.96039250e-01  8.28613648e-01 -5.16256164e-02 -3.95327447e-02]\n",
            " [ 9.60427161e-03 -2.00448217e-02  1.18200470e-02 -4.64623994e-02\n",
            "  -1.49996537e-02  2.36882491e-02  8.94569594e-04 -4.37028860e-02\n",
            "   1.20358407e-01 -9.47216220e-02  2.25206828e-01  1.15219024e-01\n",
            "  -3.05277809e-01  3.39548065e-01  5.47740898e-01 -4.12237644e-01\n",
            "  -1.31025822e-01 -3.97182400e-01 -6.93214005e-02 -3.55701263e-02]\n",
            " [-2.98791695e-03  2.50900866e-02 -4.22437680e-03 -2.33052795e-02\n",
            "  -1.03945775e-01 -9.43356362e-02 -2.29230611e-04  8.72970523e-02\n",
            "  -8.95137520e-02  1.16084498e-01 -6.88688220e-01  5.85329736e-01\n",
            "  -2.49766728e-01 -9.98884717e-02  4.18584495e-02 -3.66095282e-02\n",
            "   6.41927427e-02  2.92552717e-02 -5.80482365e-02 -4.08214438e-02]\n",
            " [-1.08450394e-03  3.88768903e-04  2.83005971e-03 -5.81007556e-03\n",
            "  -5.24741593e-03  1.04438772e-02  5.25416900e-03  1.04394025e-02\n",
            "  -4.49324572e-03  5.71948252e-03  8.71169180e-04  7.15075064e-03\n",
            "   1.38614497e-02  1.51423356e-02  2.05720051e-03 -2.24286597e-02\n",
            "   5.33750767e-03 -6.00180228e-03  9.60849000e-01 -1.66540835e-01]\n",
            " [ 1.26999253e-01 -2.26633218e-01  3.31748202e-02 -1.77801322e-01\n",
            "   1.77040476e-01  2.12149225e-02  4.54621741e-01 -6.04245799e-01\n",
            "  -3.70048898e-01  2.35718486e-02 -4.20430712e-02 -1.61550831e-01\n",
            "  -1.60143358e-01 -1.95019901e-01 -7.98821497e-02 -3.57276992e-02\n",
            "  -5.69464374e-02 -5.41913551e-02 -5.12457755e-02 -5.55716604e-02]\n",
            " [-1.50995835e-02 -8.69827134e-03 -1.68385839e-02 -3.79983611e-03\n",
            "  -6.89503228e-02 -6.25248841e-02  9.18979646e-03 -8.86293758e-02\n",
            "  -8.37897789e-02  2.52231928e-02  3.95595265e-02  1.21730463e-01\n",
            "   3.68282891e-02  7.52500740e-01 -5.61219976e-01  1.02541240e-01\n",
            "   3.30641711e-02 -1.06802196e-01 -6.55658267e-02 -3.52265918e-02]\n",
            " [ 8.11552389e-03 -5.46633915e-02 -1.85925642e-03 -5.64372707e-02\n",
            "   2.07351262e-02  4.97007406e-02  5.36664126e-02 -1.02807147e-01\n",
            "  -6.35169308e-02  7.48595390e-02 -5.72670630e-02  2.02520301e-01\n",
            "   8.87496465e-01  2.85503954e-02  2.53282565e-01 -9.80974524e-02\n",
            "   4.18270227e-02 -7.22610452e-02 -7.42615582e-02 -3.36204335e-02]\n",
            " [ 6.92971967e-01  5.45230149e-01  6.77235242e-02  3.48112726e-01\n",
            "   1.19287417e-01  4.86079276e-02 -9.09017332e-02 -1.40512148e-02\n",
            "  -7.69246584e-02 -5.46358468e-02 -5.71024347e-04 -6.48496513e-02\n",
            "   1.11189852e-02 -5.57949117e-02 -3.51025274e-02 -1.46166316e-02\n",
            "  -2.55347087e-02 -2.69431049e-02 -5.33148871e-02 -4.54083203e-02]\n",
            " [ 3.62801677e-02 -3.40543076e-02  3.20421013e-02 -1.04514843e-01\n",
            "   1.46530478e-02 -1.68115113e-02  1.49337122e-01 -5.40574747e-02\n",
            "   6.77176020e-01 -2.08698387e-01 -3.08485738e-01 -2.08009378e-01\n",
            "   6.41799097e-02 -4.08274196e-02 -5.61340814e-02  3.03148607e-01\n",
            "  -3.65128488e-01 -1.84644977e-01 -4.30563153e-02 -3.97192978e-02]\n",
            " [ 1.61583974e-02 -2.97949953e-02  2.03042474e-03 -3.11507662e-02\n",
            "  -5.01171168e-02  1.56197100e-02  8.94717876e-02 -7.64593143e-02\n",
            "   4.01246122e-01 -1.64212281e-01 -2.52947924e-02 -1.40713986e-01\n",
            "  -2.17599251e-02 -3.43397860e-02 -1.29554490e-01 -4.28443803e-01\n",
            "   6.56173306e-01  2.94483271e-01 -6.40488721e-02 -4.31170851e-02]\n",
            " [ 7.03304987e-03  4.30055266e-03  6.49382738e-02 -4.81582675e-02\n",
            "   1.51970515e-02 -7.25902492e-03  8.39936928e-02  7.25259894e-02\n",
            "  -6.12808591e-02  6.84758212e-02  7.94270252e-02 -9.14025133e-02\n",
            "  -1.09816760e-01  1.39832602e-01  4.09931299e-01  6.87534367e-01\n",
            "   4.84202200e-01  9.07704938e-03 -4.51383095e-02 -3.37513625e-02]]\n",
            "\n",
            " Explain Standard deviations : \n",
            " [0.05223901 0.03637366 0.02542661 0.02343384 0.01680324 0.01605739\n",
            " 0.01317637 0.01262226 0.00904847 0.00887891 0.0074665  0.00720257\n",
            " 0.00662834 0.00630213 0.0051433  0.0048926  0.0042725  0.00393568\n",
            " 0.00132543 0.00091387]\n",
            "\n",
            " Explain Variance Ratio : \n",
            " [4.16027508e-01 2.01700173e-01 9.85619025e-02 8.37180768e-02\n",
            " 4.30445818e-02 3.93080944e-02 2.64681463e-02 2.42888113e-02\n",
            " 1.24819512e-02 1.20185315e-02 8.49898164e-03 7.90873430e-03\n",
            " 6.69795057e-03 6.05490544e-03 4.03289092e-03 3.64931488e-03\n",
            " 2.78288751e-03 2.36141456e-03 2.67821120e-04 1.27322094e-04]\n",
            "\n",
            " Noise Variance : \n",
            " 6.744224783864083e-33\n"
          ],
          "name": "stdout"
        }
      ]
    },
    {
      "cell_type": "code",
      "metadata": {
        "colab": {
          "base_uri": "https://localhost:8080/",
          "height": 913
        },
        "id": "DGeM7CCA4--O",
        "outputId": "a49086ce-306c-4e43-ea27-0b1d4fd79e78"
      },
      "source": [
        "# Scree Plot\n",
        "plt.figure(figsize=(15,15))\n",
        "plt.title('Scree Plot')\n",
        "plt.xlabel('Number of Components')\n",
        "plt.ylabel('cummulative Explained Variance')\n",
        "plt.plot(pca.explained_variance_, 'o-')"
      ],
      "execution_count": 90,
      "outputs": [
        {
          "output_type": "execute_result",
          "data": {
            "text/plain": [
              "[<matplotlib.lines.Line2D at 0x7f5b25c15c90>]"
            ]
          },
          "metadata": {
            "tags": []
          },
          "execution_count": 90
        },
        {
          "output_type": "display_data",
          "data": {
            "image/png": "[encoded data removed]",
            "text/plain": [
              "<Figure size 1080x1080 with 1 Axes>"
            ]
          },
          "metadata": {
            "tags": [],
            "image/png": {
              "width": 905,
              "height": 878
            },
            "needs_background": "light"
          }
        }
      ]
    },
    {
      "cell_type": "code",
      "metadata": {
        "id": "ovBRibPSHa1M"
      },
      "source": [
        "from scipy.cluster.hierarchy import dendrogram, linkage\n",
        "\n",
        "linked = linkage(tour, 'single')"
      ],
      "execution_count": 129,
      "outputs": []
    },
    {
      "cell_type": "code",
      "metadata": {
        "colab": {
          "base_uri": "https://localhost:8080/"
        },
        "id": "WKol9WGQI903",
        "outputId": "b3c1f0a7-e6cc-4156-d7a6-c64a32bc237d"
      },
      "source": [
        "linked"
      ],
      "execution_count": 132,
      "outputs": [
        {
          "output_type": "execute_result",
          "data": {
            "text/plain": [
              "array([[2.27000000e+02, 2.28000000e+02, 6.52472188e-03, 2.00000000e+00],\n",
              "       [1.33000000e+02, 1.65000000e+02, 1.57454756e-02, 2.00000000e+00],\n",
              "       [1.16000000e+02, 2.10000000e+02, 1.57820194e-02, 2.00000000e+00],\n",
              "       [9.80000000e+01, 2.00000000e+02, 1.74302545e-02, 2.00000000e+00],\n",
              "       [4.00000000e+01, 7.60000000e+01, 1.76046005e-02, 2.00000000e+00],\n",
              "       [2.60000000e+01, 5.20000000e+01, 1.89356500e-02, 2.00000000e+00],\n",
              "       [1.81000000e+02, 1.86000000e+02, 1.92142184e-02, 2.00000000e+00],\n",
              "       [1.64000000e+02, 1.69000000e+02, 1.95214682e-02, 2.00000000e+00],\n",
              "       [1.04000000e+02, 2.31000000e+02, 1.95845561e-02, 3.00000000e+00],\n",
              "       [1.63000000e+02, 2.35000000e+02, 1.96419319e-02, 3.00000000e+00],\n",
              "       [6.90000000e+01, 2.24000000e+02, 1.97960971e-02, 2.00000000e+00],\n",
              "       [1.45000000e+02, 1.49000000e+02, 1.98082708e-02, 2.00000000e+00],\n",
              "       [2.14000000e+02, 2.21000000e+02, 1.98594338e-02, 2.00000000e+00],\n",
              "       [2.13000000e+02, 2.22000000e+02, 2.01012815e-02, 2.00000000e+00],\n",
              "       [2.80000000e+01, 2.34000000e+02, 2.01753608e-02, 3.00000000e+00],\n",
              "       [1.40000000e+02, 1.53000000e+02, 2.06244356e-02, 2.00000000e+00],\n",
              "       [3.80000000e+01, 1.08000000e+02, 2.10517745e-02, 2.00000000e+00],\n",
              "       [2.37000000e+02, 2.41000000e+02, 2.11236945e-02, 5.00000000e+00],\n",
              "       [2.32000000e+02, 2.38000000e+02, 2.12015860e-02, 5.00000000e+00],\n",
              "       [1.26000000e+02, 2.33000000e+02, 2.13047099e-02, 3.00000000e+00],\n",
              "       [1.85000000e+02, 2.47000000e+02, 2.15275767e-02, 6.00000000e+00],\n",
              "       [1.73000000e+02, 2.36000000e+02, 2.21017268e-02, 3.00000000e+00],\n",
              "       [1.15000000e+02, 2.46000000e+02, 2.23528173e-02, 6.00000000e+00],\n",
              "       [1.24000000e+02, 1.57000000e+02, 2.23964699e-02, 2.00000000e+00],\n",
              "       [2.49000000e+02, 2.50000000e+02, 2.24932020e-02, 9.00000000e+00],\n",
              "       [1.37000000e+02, 2.40000000e+02, 2.26763419e-02, 3.00000000e+00],\n",
              "       [1.72000000e+02, 1.77000000e+02, 2.28021508e-02, 2.00000000e+00],\n",
              "       [1.76000000e+02, 2.53000000e+02, 2.28695755e-02, 1.00000000e+01],\n",
              "       [1.05000000e+02, 1.31000000e+02, 2.32199965e-02, 2.00000000e+00],\n",
              "       [1.22000000e+02, 2.51000000e+02, 2.32474945e-02, 7.00000000e+00],\n",
              "       [7.50000000e+01, 1.39000000e+02, 2.32561407e-02, 2.00000000e+00],\n",
              "       [8.40000000e+01, 2.30000000e+02, 2.34939464e-02, 3.00000000e+00],\n",
              "       [1.83000000e+02, 2.56000000e+02, 2.35362343e-02, 1.10000000e+01],\n",
              "       [1.12000000e+02, 2.60000000e+02, 2.35490388e-02, 4.00000000e+00],\n",
              "       [3.30000000e+01, 2.45000000e+02, 2.36476799e-02, 3.00000000e+00],\n",
              "       [1.48000000e+02, 2.52000000e+02, 2.36949842e-02, 3.00000000e+00],\n",
              "       [1.11000000e+02, 2.62000000e+02, 2.37188547e-02, 5.00000000e+00],\n",
              "       [1.66000000e+02, 2.55000000e+02, 2.39249965e-02, 3.00000000e+00],\n",
              "       [1.06000000e+02, 2.65000000e+02, 2.39867657e-02, 6.00000000e+00],\n",
              "       [8.90000000e+01, 2.54000000e+02, 2.40440604e-02, 4.00000000e+00],\n",
              "       [2.67000000e+02, 2.68000000e+02, 2.41489626e-02, 1.00000000e+01],\n",
              "       [8.70000000e+01, 2.57000000e+02, 2.42694463e-02, 3.00000000e+00],\n",
              "       [2.61000000e+02, 2.69000000e+02, 2.42872006e-02, 2.10000000e+01],\n",
              "       [1.28000000e+02, 1.75000000e+02, 2.42891616e-02, 2.00000000e+00],\n",
              "       [2.71000000e+02, 2.72000000e+02, 2.43056282e-02, 2.30000000e+01],\n",
              "       [1.47000000e+02, 2.73000000e+02, 2.47961376e-02, 2.40000000e+01],\n",
              "       [2.15000000e+02, 2.26000000e+02, 2.49065635e-02, 2.00000000e+00],\n",
              "       [2.64000000e+02, 2.74000000e+02, 2.49840801e-02, 2.70000000e+01],\n",
              "       [2.63000000e+02, 2.76000000e+02, 2.50102278e-02, 3.00000000e+01],\n",
              "       [1.23000000e+02, 2.77000000e+02, 2.50459404e-02, 3.10000000e+01],\n",
              "       [2.58000000e+02, 2.78000000e+02, 2.50979933e-02, 3.80000000e+01],\n",
              "       [1.43000000e+02, 2.79000000e+02, 2.51093857e-02, 3.90000000e+01],\n",
              "       [0.00000000e+00, 1.00000000e+00, 2.51989857e-02, 2.00000000e+00],\n",
              "       [1.09000000e+02, 2.80000000e+02, 2.55304688e-02, 4.00000000e+01],\n",
              "       [1.54000000e+02, 2.59000000e+02, 2.55323223e-02, 3.00000000e+00],\n",
              "       [2.66000000e+02, 2.82000000e+02, 2.57923154e-02, 4.30000000e+01],\n",
              "       [1.74000000e+02, 2.84000000e+02, 2.58303551e-02, 4.40000000e+01],\n",
              "       [2.44000000e+02, 2.85000000e+02, 2.59295604e-02, 4.60000000e+01],\n",
              "       [2.23000000e+02, 2.42000000e+02, 2.60200597e-02, 3.00000000e+00],\n",
              "       [1.07000000e+02, 1.71000000e+02, 2.60637357e-02, 2.00000000e+00],\n",
              "       [1.27000000e+02, 2.83000000e+02, 2.64370187e-02, 4.00000000e+00],\n",
              "       [1.46000000e+02, 2.89000000e+02, 2.64694817e-02, 5.00000000e+00],\n",
              "       [1.17000000e+02, 1.58000000e+02, 2.66716681e-02, 2.00000000e+00],\n",
              "       [1.14000000e+02, 2.86000000e+02, 2.68502785e-02, 4.70000000e+01],\n",
              "       [3.10000000e+01, 1.61000000e+02, 2.68666649e-02, 2.00000000e+00],\n",
              "       [7.30000000e+01, 2.88000000e+02, 2.69860794e-02, 3.00000000e+00],\n",
              "       [2.39000000e+02, 2.92000000e+02, 2.70628640e-02, 4.90000000e+01],\n",
              "       [1.84000000e+02, 2.95000000e+02, 2.72529544e-02, 5.00000000e+01],\n",
              "       [2.90000000e+02, 2.94000000e+02, 2.73371540e-02, 8.00000000e+00],\n",
              "       [2.96000000e+02, 2.97000000e+02, 2.74426622e-02, 5.80000000e+01],\n",
              "       [1.30000000e+02, 2.98000000e+02, 2.74470132e-02, 5.90000000e+01],\n",
              "       [7.80000000e+01, 2.99000000e+02, 2.74804260e-02, 6.00000000e+01],\n",
              "       [1.42000000e+02, 3.00000000e+02, 2.76152304e-02, 6.10000000e+01],\n",
              "       [1.25000000e+02, 3.01000000e+02, 2.76822965e-02, 6.20000000e+01],\n",
              "       [2.06000000e+02, 2.09000000e+02, 2.77263413e-02, 2.00000000e+00],\n",
              "       [5.70000000e+01, 3.02000000e+02, 2.78795984e-02, 6.30000000e+01],\n",
              "       [2.19000000e+02, 3.04000000e+02, 2.79279908e-02, 6.40000000e+01],\n",
              "       [1.70000000e+02, 1.82000000e+02, 2.80104912e-02, 2.00000000e+00],\n",
              "       [3.05000000e+02, 3.06000000e+02, 2.80881509e-02, 6.60000000e+01],\n",
              "       [1.36000000e+02, 3.07000000e+02, 2.82674805e-02, 6.70000000e+01],\n",
              "       [2.48000000e+02, 3.08000000e+02, 2.84334967e-02, 7.00000000e+01],\n",
              "       [4.90000000e+01, 8.30000000e+01, 2.87628334e-02, 2.00000000e+00],\n",
              "       [2.43000000e+02, 3.09000000e+02, 2.90170471e-02, 7.30000000e+01],\n",
              "       [2.93000000e+02, 3.11000000e+02, 2.90361356e-02, 7.50000000e+01],\n",
              "       [3.40000000e+01, 3.12000000e+02, 2.90633158e-02, 7.60000000e+01],\n",
              "       [9.70000000e+01, 3.13000000e+02, 2.90929797e-02, 7.70000000e+01],\n",
              "       [1.78000000e+02, 2.70000000e+02, 2.91181573e-02, 4.00000000e+00],\n",
              "       [1.59000000e+02, 3.14000000e+02, 2.91257912e-02, 7.80000000e+01],\n",
              "       [8.10000000e+01, 3.16000000e+02, 2.92193713e-02, 7.90000000e+01],\n",
              "       [1.51000000e+02, 3.17000000e+02, 2.94290851e-02, 8.00000000e+01],\n",
              "       [6.80000000e+01, 3.18000000e+02, 2.95356328e-02, 8.10000000e+01],\n",
              "       [2.91000000e+02, 3.19000000e+02, 2.98389441e-02, 8.30000000e+01],\n",
              "       [1.62000000e+02, 3.20000000e+02, 2.98422098e-02, 8.40000000e+01],\n",
              "       [2.25000000e+02, 2.87000000e+02, 2.98463560e-02, 4.00000000e+00],\n",
              "       [2.07000000e+02, 3.21000000e+02, 2.99606039e-02, 8.50000000e+01],\n",
              "       [3.15000000e+02, 3.23000000e+02, 3.02929993e-02, 8.90000000e+01],\n",
              "       [2.75000000e+02, 3.22000000e+02, 3.06032043e-02, 6.00000000e+00],\n",
              "       [1.50000000e+02, 3.24000000e+02, 3.07650286e-02, 9.00000000e+01],\n",
              "       [1.13000000e+02, 3.26000000e+02, 3.07899322e-02, 9.10000000e+01],\n",
              "       [3.10000000e+02, 3.27000000e+02, 3.07951316e-02, 9.30000000e+01],\n",
              "       [5.90000000e+01, 6.10000000e+01, 3.07963642e-02, 2.00000000e+00],\n",
              "       [2.01000000e+02, 3.28000000e+02, 3.08461789e-02, 9.40000000e+01],\n",
              "       [8.20000000e+01, 3.30000000e+02, 3.08836266e-02, 9.50000000e+01],\n",
              "       [9.40000000e+01, 3.31000000e+02, 3.10140685e-02, 9.60000000e+01],\n",
              "       [1.01000000e+02, 3.32000000e+02, 3.11026332e-02, 9.70000000e+01],\n",
              "       [1.00000000e+02, 3.33000000e+02, 3.11177758e-02, 9.80000000e+01],\n",
              "       [3.25000000e+02, 3.34000000e+02, 3.11254390e-02, 1.04000000e+02],\n",
              "       [7.10000000e+01, 3.35000000e+02, 3.12142473e-02, 1.05000000e+02],\n",
              "       [1.88000000e+02, 1.92000000e+02, 3.12356487e-02, 2.00000000e+00],\n",
              "       [3.03000000e+02, 3.36000000e+02, 3.13968504e-02, 1.07000000e+02],\n",
              "       [7.40000000e+01, 3.38000000e+02, 3.21395034e-02, 1.08000000e+02],\n",
              "       [2.04000000e+02, 3.39000000e+02, 3.23454053e-02, 1.09000000e+02],\n",
              "       [6.00000000e+01, 3.29000000e+02, 3.27339556e-02, 3.00000000e+00],\n",
              "       [1.60000000e+02, 3.40000000e+02, 3.27881751e-02, 1.10000000e+02],\n",
              "       [1.79000000e+02, 3.42000000e+02, 3.29575683e-02, 1.11000000e+02],\n",
              "       [2.12000000e+02, 3.43000000e+02, 3.30657507e-02, 1.12000000e+02],\n",
              "       [1.29000000e+02, 3.44000000e+02, 3.30819926e-02, 1.13000000e+02],\n",
              "       [1.55000000e+02, 3.45000000e+02, 3.33578389e-02, 1.14000000e+02],\n",
              "       [2.11000000e+02, 3.46000000e+02, 3.33934179e-02, 1.15000000e+02],\n",
              "       [1.67000000e+02, 3.47000000e+02, 3.35120445e-02, 1.16000000e+02],\n",
              "       [1.90000000e+02, 3.48000000e+02, 3.37751459e-02, 1.17000000e+02],\n",
              "       [1.96000000e+02, 3.49000000e+02, 3.38765676e-02, 1.18000000e+02],\n",
              "       [6.60000000e+01, 1.02000000e+02, 3.46282363e-02, 2.00000000e+00],\n",
              "       [1.03000000e+02, 3.50000000e+02, 3.51177209e-02, 1.19000000e+02],\n",
              "       [1.44000000e+02, 3.52000000e+02, 3.51221399e-02, 1.20000000e+02],\n",
              "       [1.35000000e+02, 3.51000000e+02, 3.53397368e-02, 3.00000000e+00],\n",
              "       [1.98000000e+02, 3.53000000e+02, 3.54743326e-02, 1.21000000e+02],\n",
              "       [3.54000000e+02, 3.55000000e+02, 3.58528561e-02, 1.24000000e+02],\n",
              "       [1.68000000e+02, 3.56000000e+02, 3.59578430e-02, 1.25000000e+02],\n",
              "       [7.70000000e+01, 3.57000000e+02, 3.59713956e-02, 1.26000000e+02],\n",
              "       [3.37000000e+02, 3.58000000e+02, 3.60972768e-02, 1.28000000e+02],\n",
              "       [6.40000000e+01, 3.59000000e+02, 3.65375336e-02, 1.29000000e+02],\n",
              "       [9.90000000e+01, 3.60000000e+02, 3.66293237e-02, 1.30000000e+02],\n",
              "       [2.16000000e+02, 3.61000000e+02, 3.73777955e-02, 1.31000000e+02],\n",
              "       [2.20000000e+02, 3.62000000e+02, 3.83002754e-02, 1.32000000e+02],\n",
              "       [1.10000000e+02, 3.63000000e+02, 3.83598734e-02, 1.33000000e+02],\n",
              "       [4.00000000e+00, 6.20000000e+01, 3.86868010e-02, 2.00000000e+00],\n",
              "       [1.94000000e+02, 3.64000000e+02, 3.91571426e-02, 1.34000000e+02],\n",
              "       [2.03000000e+02, 3.66000000e+02, 3.94590616e-02, 1.35000000e+02],\n",
              "       [1.21000000e+02, 3.67000000e+02, 3.96414137e-02, 1.36000000e+02],\n",
              "       [1.89000000e+02, 3.68000000e+02, 3.97828306e-02, 1.37000000e+02],\n",
              "       [1.95000000e+02, 3.69000000e+02, 4.00409808e-02, 1.38000000e+02],\n",
              "       [8.60000000e+01, 3.70000000e+02, 4.00531906e-02, 1.39000000e+02],\n",
              "       [4.60000000e+01, 3.65000000e+02, 4.01197069e-02, 3.00000000e+00],\n",
              "       [1.32000000e+02, 3.71000000e+02, 4.04115838e-02, 1.40000000e+02],\n",
              "       [2.17000000e+02, 3.73000000e+02, 4.05190525e-02, 1.41000000e+02],\n",
              "       [6.30000000e+01, 3.72000000e+02, 4.07652244e-02, 4.00000000e+00],\n",
              "       [4.20000000e+01, 3.74000000e+02, 4.09771094e-02, 1.42000000e+02],\n",
              "       [1.87000000e+02, 1.91000000e+02, 4.11188866e-02, 2.00000000e+00],\n",
              "       [2.18000000e+02, 3.76000000e+02, 4.12279996e-02, 1.43000000e+02],\n",
              "       [3.41000000e+02, 3.75000000e+02, 4.13255511e-02, 7.00000000e+00],\n",
              "       [4.70000000e+01, 3.79000000e+02, 4.16546988e-02, 8.00000000e+00],\n",
              "       [6.50000000e+01, 3.78000000e+02, 4.16879793e-02, 1.44000000e+02],\n",
              "       [3.90000000e+01, 3.80000000e+02, 4.17287883e-02, 9.00000000e+00],\n",
              "       [5.80000000e+01, 3.81000000e+02, 4.22280391e-02, 1.45000000e+02],\n",
              "       [2.29000000e+02, 3.83000000e+02, 4.25129220e-02, 1.47000000e+02],\n",
              "       [3.82000000e+02, 3.84000000e+02, 4.25215627e-02, 1.56000000e+02],\n",
              "       [4.80000000e+01, 3.85000000e+02, 4.28752005e-02, 1.57000000e+02],\n",
              "       [1.56000000e+02, 3.86000000e+02, 4.29193040e-02, 1.58000000e+02],\n",
              "       [9.50000000e+01, 3.87000000e+02, 4.30389645e-02, 1.59000000e+02],\n",
              "       [1.80000000e+01, 3.88000000e+02, 4.30700508e-02, 1.60000000e+02],\n",
              "       [3.00000000e+01, 3.70000000e+01, 4.39837275e-02, 2.00000000e+00],\n",
              "       [3.77000000e+02, 3.89000000e+02, 4.41103198e-02, 1.62000000e+02],\n",
              "       [2.00000000e+00, 3.91000000e+02, 4.43804501e-02, 1.63000000e+02],\n",
              "       [7.00000000e+01, 3.92000000e+02, 4.44124434e-02, 1.64000000e+02],\n",
              "       [5.00000000e+01, 3.93000000e+02, 4.49275362e-02, 1.65000000e+02],\n",
              "       [6.70000000e+01, 3.94000000e+02, 4.50964073e-02, 1.66000000e+02],\n",
              "       [1.52000000e+02, 3.95000000e+02, 4.53108360e-02, 1.67000000e+02],\n",
              "       [3.90000000e+02, 3.96000000e+02, 4.53359415e-02, 1.69000000e+02],\n",
              "       [1.30000000e+01, 2.81000000e+02, 4.60165060e-02, 3.00000000e+00],\n",
              "       [1.40000000e+01, 2.02000000e+02, 4.67707173e-02, 2.00000000e+00],\n",
              "       [8.00000000e+00, 2.90000000e+01, 4.71593303e-02, 2.00000000e+00],\n",
              "       [2.05000000e+02, 3.97000000e+02, 4.73844940e-02, 1.70000000e+02],\n",
              "       [1.38000000e+02, 4.01000000e+02, 4.74040139e-02, 1.71000000e+02],\n",
              "       [9.00000000e+00, 4.02000000e+02, 4.74980847e-02, 1.72000000e+02],\n",
              "       [1.18000000e+02, 4.03000000e+02, 4.81125224e-02, 1.73000000e+02],\n",
              "       [1.80000000e+02, 4.04000000e+02, 4.86222365e-02, 1.74000000e+02],\n",
              "       [9.60000000e+01, 4.05000000e+02, 4.88698361e-02, 1.75000000e+02],\n",
              "       [1.19000000e+02, 4.06000000e+02, 4.91689782e-02, 1.76000000e+02],\n",
              "       [8.00000000e+01, 4.07000000e+02, 4.98610632e-02, 1.77000000e+02],\n",
              "       [4.00000000e+02, 4.08000000e+02, 5.09047869e-02, 1.79000000e+02],\n",
              "       [5.40000000e+01, 4.09000000e+02, 5.09516264e-02, 1.80000000e+02],\n",
              "       [2.70000000e+01, 4.10000000e+02, 5.15428997e-02, 1.81000000e+02],\n",
              "       [1.99000000e+02, 4.11000000e+02, 5.25024879e-02, 1.82000000e+02],\n",
              "       [1.93000000e+02, 1.97000000e+02, 5.25588907e-02, 2.00000000e+00],\n",
              "       [2.50000000e+01, 4.12000000e+02, 5.26509131e-02, 1.83000000e+02],\n",
              "       [3.00000000e+00, 4.14000000e+02, 5.27101734e-02, 1.84000000e+02],\n",
              "       [3.50000000e+01, 4.15000000e+02, 5.32726693e-02, 1.85000000e+02],\n",
              "       [1.60000000e+01, 4.16000000e+02, 5.32980299e-02, 1.86000000e+02],\n",
              "       [3.99000000e+02, 4.17000000e+02, 5.33403270e-02, 1.88000000e+02],\n",
              "       [7.90000000e+01, 4.18000000e+02, 5.35181511e-02, 1.89000000e+02],\n",
              "       [5.30000000e+01, 4.19000000e+02, 5.39225665e-02, 1.90000000e+02],\n",
              "       [4.13000000e+02, 4.20000000e+02, 5.39640172e-02, 1.92000000e+02],\n",
              "       [3.98000000e+02, 4.21000000e+02, 5.45317253e-02, 1.95000000e+02],\n",
              "       [2.10000000e+01, 4.22000000e+02, 5.78859895e-02, 1.96000000e+02],\n",
              "       [1.34000000e+02, 4.23000000e+02, 5.83167128e-02, 1.97000000e+02],\n",
              "       [2.00000000e+01, 4.24000000e+02, 5.91797054e-02, 1.98000000e+02],\n",
              "       [1.10000000e+01, 5.50000000e+01, 6.12372436e-02, 2.00000000e+00],\n",
              "       [2.20000000e+01, 4.25000000e+02, 6.16463985e-02, 1.99000000e+02],\n",
              "       [9.00000000e+01, 4.27000000e+02, 6.16935146e-02, 2.00000000e+02],\n",
              "       [9.10000000e+01, 4.28000000e+02, 6.27122247e-02, 2.01000000e+02],\n",
              "       [3.60000000e+01, 4.29000000e+02, 6.34647759e-02, 2.02000000e+02],\n",
              "       [1.90000000e+01, 4.30000000e+02, 6.40851691e-02, 2.03000000e+02],\n",
              "       [1.20000000e+01, 4.31000000e+02, 6.45365142e-02, 2.04000000e+02],\n",
              "       [7.20000000e+01, 4.32000000e+02, 6.45906641e-02, 2.05000000e+02],\n",
              "       [4.10000000e+01, 4.33000000e+02, 6.50062413e-02, 2.06000000e+02],\n",
              "       [8.50000000e+01, 9.30000000e+01, 6.71663784e-02, 2.00000000e+00],\n",
              "       [8.80000000e+01, 4.34000000e+02, 6.79553657e-02, 2.07000000e+02],\n",
              "       [3.20000000e+01, 4.36000000e+02, 6.80263164e-02, 2.08000000e+02],\n",
              "       [1.00000000e+01, 4.40000000e+01, 6.80413817e-02, 2.00000000e+00],\n",
              "       [2.08000000e+02, 4.37000000e+02, 7.10723418e-02, 2.09000000e+02],\n",
              "       [4.38000000e+02, 4.39000000e+02, 7.50443732e-02, 2.11000000e+02],\n",
              "       [5.60000000e+01, 4.40000000e+02, 7.55636597e-02, 2.12000000e+02],\n",
              "       [4.50000000e+01, 4.41000000e+02, 7.60456493e-02, 2.13000000e+02],\n",
              "       [9.20000000e+01, 4.42000000e+02, 7.65181986e-02, 2.14000000e+02],\n",
              "       [1.41000000e+02, 4.43000000e+02, 8.07608241e-02, 2.15000000e+02],\n",
              "       [2.30000000e+01, 4.35000000e+02, 8.60442570e-02, 3.00000000e+00],\n",
              "       [2.40000000e+01, 4.44000000e+02, 8.86945196e-02, 2.16000000e+02],\n",
              "       [4.30000000e+01, 4.46000000e+02, 8.99382504e-02, 2.17000000e+02],\n",
              "       [4.45000000e+02, 4.47000000e+02, 9.07239791e-02, 2.20000000e+02],\n",
              "       [4.26000000e+02, 4.48000000e+02, 9.19866211e-02, 2.22000000e+02],\n",
              "       [1.50000000e+01, 4.49000000e+02, 9.65961857e-02, 2.23000000e+02],\n",
              "       [1.20000000e+02, 4.50000000e+02, 1.04803608e-01, 2.24000000e+02],\n",
              "       [5.00000000e+00, 1.70000000e+01, 1.05962589e-01, 2.00000000e+00],\n",
              "       [4.51000000e+02, 4.52000000e+02, 1.06943035e-01, 2.26000000e+02],\n",
              "       [5.10000000e+01, 4.53000000e+02, 1.15470054e-01, 2.27000000e+02],\n",
              "       [7.00000000e+00, 4.54000000e+02, 1.23977298e-01, 2.28000000e+02],\n",
              "       [6.00000000e+00, 4.55000000e+02, 3.77307714e-01, 2.29000000e+02]])"
            ]
          },
          "metadata": {
            "tags": []
          },
          "execution_count": 132
        }
      ]
    },
    {
      "cell_type": "code",
      "metadata": {
        "colab": {
          "base_uri": "https://localhost:8080/",
          "height": 391
        },
        "id": "7fZYxspYIpZ9",
        "outputId": "69f24c83-8c6c-4c29-d5f0-6ef785491a98"
      },
      "source": [
        "labelList = range(1, 11)\n",
        "\n",
        "plt.figure(figsize=(10, 7))\n",
        "dendrogram(linked,\n",
        "            orientation='top',\n",
        "            labels=labelList,\n",
        "            distance_sort='descending',\n",
        "            show_leaf_counts=True)\n",
        "plt.show()"
      ],
      "execution_count": 131,
      "outputs": [
        {
          "output_type": "error",
          "ename": "IndexError",
          "evalue": "ignored",
          "traceback": [
            "\u001b[0;31m---------------------------------------------------------------------------\u001b[0m",
            "\u001b[0;31mIndexError\u001b[0m                                Traceback (most recent call last)",
            "\u001b[0;32m<ipython-input-131-3cb128e78191>\u001b[0m in \u001b[0;36m<module>\u001b[0;34m()\u001b[0m\n\u001b[1;32m      5\u001b[0m             \u001b[0morientation\u001b[0m\u001b[0;34m=\u001b[0m\u001b[0;34m'top'\u001b[0m\u001b[0;34m,\u001b[0m\u001b[0;34m\u001b[0m\u001b[0;34m\u001b[0m\u001b[0m\n\u001b[1;32m      6\u001b[0m             \u001b[0mlabels\u001b[0m\u001b[0;34m=\u001b[0m\u001b[0mlabelList\u001b[0m\u001b[0;34m,\u001b[0m\u001b[0;34m\u001b[0m\u001b[0;34m\u001b[0m\u001b[0m\n\u001b[0;32m----> 7\u001b[0;31m             distance_sort='descending')\n\u001b[0m\u001b[1;32m      8\u001b[0m \u001b[0mplt\u001b[0m\u001b[0;34m.\u001b[0m\u001b[0mshow\u001b[0m\u001b[0;34m(\u001b[0m\u001b[0;34m)\u001b[0m\u001b[0;34m\u001b[0m\u001b[0;34m\u001b[0m\u001b[0m\n",
            "\u001b[0;32m/usr/local/lib/python3.7/dist-packages/scipy/cluster/hierarchy.py\u001b[0m in \u001b[0;36mdendrogram\u001b[0;34m(Z, p, truncate_mode, color_threshold, get_leaves, orientation, labels, count_sort, distance_sort, show_leaf_counts, no_plot, no_labels, leaf_font_size, leaf_rotation, leaf_label_func, show_contracted, link_color_func, ax, above_threshold_color)\u001b[0m\n\u001b[1;32m   3345\u001b[0m         \u001b[0mcontraction_marks\u001b[0m\u001b[0;34m=\u001b[0m\u001b[0mcontraction_marks\u001b[0m\u001b[0;34m,\u001b[0m\u001b[0;34m\u001b[0m\u001b[0;34m\u001b[0m\u001b[0m\n\u001b[1;32m   3346\u001b[0m         \u001b[0mlink_color_func\u001b[0m\u001b[0;34m=\u001b[0m\u001b[0mlink_color_func\u001b[0m\u001b[0;34m,\u001b[0m\u001b[0;34m\u001b[0m\u001b[0;34m\u001b[0m\u001b[0m\n\u001b[0;32m-> 3347\u001b[0;31m         above_threshold_color=above_threshold_color)\n\u001b[0m\u001b[1;32m   3348\u001b[0m \u001b[0;34m\u001b[0m\u001b[0m\n\u001b[1;32m   3349\u001b[0m     \u001b[0;32mif\u001b[0m \u001b[0;32mnot\u001b[0m \u001b[0mno_plot\u001b[0m\u001b[0;34m:\u001b[0m\u001b[0;34m\u001b[0m\u001b[0;34m\u001b[0m\u001b[0m\n",
            "\u001b[0;32m/usr/local/lib/python3.7/dist-packages/scipy/cluster/hierarchy.py\u001b[0m in \u001b[0;36m_dendrogram_calculate_info\u001b[0;34m(Z, p, truncate_mode, color_threshold, get_leaves, orientation, labels, count_sort, distance_sort, show_leaf_counts, i, iv, ivl, n, icoord_list, dcoord_list, lvs, mhr, current_color, color_list, currently_below_threshold, leaf_label_func, level, contraction_marks, link_color_func, above_threshold_color)\u001b[0m\n\u001b[1;32m   3598\u001b[0m             \u001b[0mlevel\u001b[0m\u001b[0;34m=\u001b[0m\u001b[0mlevel\u001b[0m \u001b[0;34m+\u001b[0m \u001b[0;36m1\u001b[0m\u001b[0;34m,\u001b[0m \u001b[0mcontraction_marks\u001b[0m\u001b[0;34m=\u001b[0m\u001b[0mcontraction_marks\u001b[0m\u001b[0;34m,\u001b[0m\u001b[0;34m\u001b[0m\u001b[0;34m\u001b[0m\u001b[0m\n\u001b[1;32m   3599\u001b[0m             \u001b[0mlink_color_func\u001b[0m\u001b[0;34m=\u001b[0m\u001b[0mlink_color_func\u001b[0m\u001b[0;34m,\u001b[0m\u001b[0;34m\u001b[0m\u001b[0;34m\u001b[0m\u001b[0m\n\u001b[0;32m-> 3600\u001b[0;31m             above_threshold_color=above_threshold_color)\n\u001b[0m\u001b[1;32m   3601\u001b[0m \u001b[0;34m\u001b[0m\u001b[0m\n\u001b[1;32m   3602\u001b[0m     \u001b[0mh\u001b[0m \u001b[0;34m=\u001b[0m \u001b[0mZ\u001b[0m\u001b[0;34m[\u001b[0m\u001b[0mi\u001b[0m \u001b[0;34m-\u001b[0m \u001b[0mn\u001b[0m\u001b[0;34m,\u001b[0m \u001b[0;36m2\u001b[0m\u001b[0;34m]\u001b[0m\u001b[0;34m\u001b[0m\u001b[0;34m\u001b[0m\u001b[0m\n",
            "\u001b[0;32m/usr/local/lib/python3.7/dist-packages/scipy/cluster/hierarchy.py\u001b[0m in \u001b[0;36m_dendrogram_calculate_info\u001b[0;34m(Z, p, truncate_mode, color_threshold, get_leaves, orientation, labels, count_sort, distance_sort, show_leaf_counts, i, iv, ivl, n, icoord_list, dcoord_list, lvs, mhr, current_color, color_list, currently_below_threshold, leaf_label_func, level, contraction_marks, link_color_func, above_threshold_color)\u001b[0m\n\u001b[1;32m   3510\u001b[0m     \u001b[0;32mif\u001b[0m \u001b[0mi\u001b[0m \u001b[0;34m<\u001b[0m \u001b[0mn\u001b[0m\u001b[0;34m:\u001b[0m\u001b[0;34m\u001b[0m\u001b[0;34m\u001b[0m\u001b[0m\n\u001b[1;32m   3511\u001b[0m         _append_singleton_leaf_node(Z, p, n, level, lvs, ivl,\n\u001b[0;32m-> 3512\u001b[0;31m                                     leaf_label_func, i, labels)\n\u001b[0m\u001b[1;32m   3513\u001b[0m         \u001b[0;32mreturn\u001b[0m \u001b[0;34m(\u001b[0m\u001b[0miv\u001b[0m \u001b[0;34m+\u001b[0m \u001b[0;36m5.0\u001b[0m\u001b[0;34m,\u001b[0m \u001b[0;36m10.0\u001b[0m\u001b[0;34m,\u001b[0m \u001b[0;36m0.0\u001b[0m\u001b[0;34m,\u001b[0m \u001b[0;36m0.0\u001b[0m\u001b[0;34m)\u001b[0m\u001b[0;34m\u001b[0m\u001b[0;34m\u001b[0m\u001b[0m\n\u001b[1;32m   3514\u001b[0m \u001b[0;34m\u001b[0m\u001b[0m\n",
            "\u001b[0;32m/usr/local/lib/python3.7/dist-packages/scipy/cluster/hierarchy.py\u001b[0m in \u001b[0;36m_append_singleton_leaf_node\u001b[0;34m(Z, p, n, level, lvs, ivl, leaf_label_func, i, labels)\u001b[0m\n\u001b[1;32m   3380\u001b[0m             \u001b[0;31m# for the leaf nodes, use it.\u001b[0m\u001b[0;34m\u001b[0m\u001b[0;34m\u001b[0m\u001b[0;34m\u001b[0m\u001b[0m\n\u001b[1;32m   3381\u001b[0m             \u001b[0;32mif\u001b[0m \u001b[0mlabels\u001b[0m \u001b[0;32mis\u001b[0m \u001b[0;32mnot\u001b[0m \u001b[0;32mNone\u001b[0m\u001b[0;34m:\u001b[0m\u001b[0;34m\u001b[0m\u001b[0;34m\u001b[0m\u001b[0m\n\u001b[0;32m-> 3382\u001b[0;31m                 \u001b[0mivl\u001b[0m\u001b[0;34m.\u001b[0m\u001b[0mappend\u001b[0m\u001b[0;34m(\u001b[0m\u001b[0mlabels\u001b[0m\u001b[0;34m[\u001b[0m\u001b[0mint\u001b[0m\u001b[0;34m(\u001b[0m\u001b[0mi\u001b[0m \u001b[0;34m-\u001b[0m \u001b[0mn\u001b[0m\u001b[0;34m)\u001b[0m\u001b[0;34m]\u001b[0m\u001b[0;34m)\u001b[0m\u001b[0;34m\u001b[0m\u001b[0;34m\u001b[0m\u001b[0m\n\u001b[0m\u001b[1;32m   3383\u001b[0m             \u001b[0;32melse\u001b[0m\u001b[0;34m:\u001b[0m\u001b[0;34m\u001b[0m\u001b[0;34m\u001b[0m\u001b[0m\n\u001b[1;32m   3384\u001b[0m                 \u001b[0;31m# Otherwise, use the id as the label for the leaf.x\u001b[0m\u001b[0;34m\u001b[0m\u001b[0;34m\u001b[0m\u001b[0;34m\u001b[0m\u001b[0m\n",
            "\u001b[0;31mIndexError\u001b[0m: range object index out of range"
          ]
        },
        {
          "output_type": "display_data",
          "data": {
            "text/plain": [
              "<Figure size 720x504 with 0 Axes>"
            ]
          },
          "metadata": {
            "tags": []
          }
        }
      ]
    },
    {
      "cell_type": "code",
      "metadata": {
        "id": "MkTnQI81IzUe"
      },
      "source": [
        ""
      ],
      "execution_count": null,
      "outputs": []
    }
  ]
}